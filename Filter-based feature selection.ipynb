{
 "cells": [
  {
   "cell_type": "markdown",
   "metadata": {},
   "source": [
    "# Filter-based feature selection\n",
    "In this project, I used three common filter-based feature selection methods on two datasets and compared the results. "
   ]
  },
  {
   "cell_type": "markdown",
   "metadata": {},
   "source": [
    "Feature selection refers to the process of applying statistical tests to input values given a specified output, to determine which columns are more correlated with the output. By choosing the right features, you can potentially improve the accuracy and efficiency of classification."
   ]
  },
  {
   "cell_type": "markdown",
   "metadata": {},
   "source": [
    "## Data exploration"
   ]
  },
  {
   "cell_type": "code",
   "execution_count": 5,
   "metadata": {
    "collapsed": true
   },
   "outputs": [],
   "source": [
    "import warnings\n",
    "warnings.filterwarnings('ignore')\n",
    "import pandas as pd\n",
    "import numpy as np\n",
    "import matplotlib.pyplot as plt\n",
    "import seaborn as sns\n",
    "pd.set_option('display.max_columns', None)# display all the columns\n",
    "data1 = pd.read_csv('a_20s_1600_Het_h_0.4MAF_0.2_r_50_EDM-2_01.txt', sep = \"\\t\")# read in dataset\n",
    "data2 = pd.read_csv('a_20s_1600her_0.4__maf_0.2_EDM-2_01.txt', sep = \"\\t\")# read in datasetcount(*)"
   ]
  },
  {
   "cell_type": "code",
   "execution_count": 6,
   "metadata": {
    "collapsed": false
   },
   "outputs": [
    {
     "data": {
      "text/html": [
       "<div>\n",
       "<style scoped>\n",
       "    .dataframe tbody tr th:only-of-type {\n",
       "        vertical-align: middle;\n",
       "    }\n",
       "\n",
       "    .dataframe tbody tr th {\n",
       "        vertical-align: top;\n",
       "    }\n",
       "\n",
       "    .dataframe thead th {\n",
       "        text-align: right;\n",
       "    }\n",
       "</style>\n",
       "<table border=\"1\" class=\"dataframe\">\n",
       "  <thead>\n",
       "    <tr style=\"text-align: right;\">\n",
       "      <th></th>\n",
       "      <th>N0</th>\n",
       "      <th>N1</th>\n",
       "      <th>N2</th>\n",
       "      <th>N3</th>\n",
       "      <th>N4</th>\n",
       "      <th>N5</th>\n",
       "      <th>N6</th>\n",
       "      <th>N7</th>\n",
       "      <th>N8</th>\n",
       "      <th>N9</th>\n",
       "      <th>N10</th>\n",
       "      <th>N11</th>\n",
       "      <th>N12</th>\n",
       "      <th>N13</th>\n",
       "      <th>N14</th>\n",
       "      <th>N15</th>\n",
       "      <th>M0P0</th>\n",
       "      <th>M1P0</th>\n",
       "      <th>M2P0</th>\n",
       "      <th>M3P0</th>\n",
       "      <th>Class</th>\n",
       "    </tr>\n",
       "  </thead>\n",
       "  <tbody>\n",
       "    <tr>\n",
       "      <th>0</th>\n",
       "      <td>0</td>\n",
       "      <td>0</td>\n",
       "      <td>1</td>\n",
       "      <td>1</td>\n",
       "      <td>0</td>\n",
       "      <td>0</td>\n",
       "      <td>2</td>\n",
       "      <td>0</td>\n",
       "      <td>0</td>\n",
       "      <td>2</td>\n",
       "      <td>2</td>\n",
       "      <td>0</td>\n",
       "      <td>0</td>\n",
       "      <td>1</td>\n",
       "      <td>2</td>\n",
       "      <td>0</td>\n",
       "      <td>1</td>\n",
       "      <td>1</td>\n",
       "      <td>1</td>\n",
       "      <td>1</td>\n",
       "      <td>1</td>\n",
       "    </tr>\n",
       "    <tr>\n",
       "      <th>1</th>\n",
       "      <td>0</td>\n",
       "      <td>2</td>\n",
       "      <td>1</td>\n",
       "      <td>1</td>\n",
       "      <td>0</td>\n",
       "      <td>1</td>\n",
       "      <td>0</td>\n",
       "      <td>0</td>\n",
       "      <td>0</td>\n",
       "      <td>1</td>\n",
       "      <td>1</td>\n",
       "      <td>0</td>\n",
       "      <td>0</td>\n",
       "      <td>2</td>\n",
       "      <td>1</td>\n",
       "      <td>0</td>\n",
       "      <td>1</td>\n",
       "      <td>1</td>\n",
       "      <td>1</td>\n",
       "      <td>1</td>\n",
       "      <td>1</td>\n",
       "    </tr>\n",
       "    <tr>\n",
       "      <th>2</th>\n",
       "      <td>0</td>\n",
       "      <td>0</td>\n",
       "      <td>0</td>\n",
       "      <td>0</td>\n",
       "      <td>0</td>\n",
       "      <td>1</td>\n",
       "      <td>0</td>\n",
       "      <td>0</td>\n",
       "      <td>0</td>\n",
       "      <td>1</td>\n",
       "      <td>0</td>\n",
       "      <td>0</td>\n",
       "      <td>0</td>\n",
       "      <td>1</td>\n",
       "      <td>1</td>\n",
       "      <td>0</td>\n",
       "      <td>1</td>\n",
       "      <td>1</td>\n",
       "      <td>0</td>\n",
       "      <td>1</td>\n",
       "      <td>1</td>\n",
       "    </tr>\n",
       "    <tr>\n",
       "      <th>3</th>\n",
       "      <td>0</td>\n",
       "      <td>2</td>\n",
       "      <td>0</td>\n",
       "      <td>1</td>\n",
       "      <td>0</td>\n",
       "      <td>0</td>\n",
       "      <td>0</td>\n",
       "      <td>0</td>\n",
       "      <td>0</td>\n",
       "      <td>1</td>\n",
       "      <td>1</td>\n",
       "      <td>0</td>\n",
       "      <td>0</td>\n",
       "      <td>2</td>\n",
       "      <td>0</td>\n",
       "      <td>0</td>\n",
       "      <td>1</td>\n",
       "      <td>1</td>\n",
       "      <td>1</td>\n",
       "      <td>1</td>\n",
       "      <td>1</td>\n",
       "    </tr>\n",
       "    <tr>\n",
       "      <th>4</th>\n",
       "      <td>0</td>\n",
       "      <td>0</td>\n",
       "      <td>1</td>\n",
       "      <td>1</td>\n",
       "      <td>0</td>\n",
       "      <td>0</td>\n",
       "      <td>1</td>\n",
       "      <td>1</td>\n",
       "      <td>0</td>\n",
       "      <td>0</td>\n",
       "      <td>0</td>\n",
       "      <td>0</td>\n",
       "      <td>0</td>\n",
       "      <td>1</td>\n",
       "      <td>1</td>\n",
       "      <td>1</td>\n",
       "      <td>1</td>\n",
       "      <td>1</td>\n",
       "      <td>1</td>\n",
       "      <td>0</td>\n",
       "      <td>1</td>\n",
       "    </tr>\n",
       "  </tbody>\n",
       "</table>\n",
       "</div>"
      ],
      "text/plain": [
       "   N0  N1  N2  N3  N4  N5  N6  N7  N8  N9  N10  N11  N12  N13  N14  N15  M0P0  \\\n",
       "0   0   0   1   1   0   0   2   0   0   2    2    0    0    1    2    0     1   \n",
       "1   0   2   1   1   0   1   0   0   0   1    1    0    0    2    1    0     1   \n",
       "2   0   0   0   0   0   1   0   0   0   1    0    0    0    1    1    0     1   \n",
       "3   0   2   0   1   0   0   0   0   0   1    1    0    0    2    0    0     1   \n",
       "4   0   0   1   1   0   0   1   1   0   0    0    0    0    1    1    1     1   \n",
       "\n",
       "   M1P0  M2P0  M3P0  Class  \n",
       "0     1     1     1      1  \n",
       "1     1     1     1      1  \n",
       "2     1     0     1      1  \n",
       "3     1     1     1      1  \n",
       "4     1     1     0      1  "
      ]
     },
     "execution_count": 6,
     "metadata": {},
     "output_type": "execute_result"
    }
   ],
   "source": [
    "data1.head()"
   ]
  },
  {
   "cell_type": "code",
   "execution_count": 7,
   "metadata": {
    "collapsed": false
   },
   "outputs": [
    {
     "data": {
      "text/html": [
       "<div>\n",
       "<style scoped>\n",
       "    .dataframe tbody tr th:only-of-type {\n",
       "        vertical-align: middle;\n",
       "    }\n",
       "\n",
       "    .dataframe tbody tr th {\n",
       "        vertical-align: top;\n",
       "    }\n",
       "\n",
       "    .dataframe thead th {\n",
       "        text-align: right;\n",
       "    }\n",
       "</style>\n",
       "<table border=\"1\" class=\"dataframe\">\n",
       "  <thead>\n",
       "    <tr style=\"text-align: right;\">\n",
       "      <th></th>\n",
       "      <th>N0</th>\n",
       "      <th>N1</th>\n",
       "      <th>N2</th>\n",
       "      <th>N3</th>\n",
       "      <th>N4</th>\n",
       "      <th>N5</th>\n",
       "      <th>N6</th>\n",
       "      <th>N7</th>\n",
       "      <th>N8</th>\n",
       "      <th>N9</th>\n",
       "      <th>N10</th>\n",
       "      <th>N11</th>\n",
       "      <th>N12</th>\n",
       "      <th>N13</th>\n",
       "      <th>N14</th>\n",
       "      <th>N15</th>\n",
       "      <th>N16</th>\n",
       "      <th>N17</th>\n",
       "      <th>M0P0</th>\n",
       "      <th>M0P1</th>\n",
       "      <th>Class</th>\n",
       "    </tr>\n",
       "  </thead>\n",
       "  <tbody>\n",
       "    <tr>\n",
       "      <th>0</th>\n",
       "      <td>0</td>\n",
       "      <td>0</td>\n",
       "      <td>0</td>\n",
       "      <td>0</td>\n",
       "      <td>0</td>\n",
       "      <td>0</td>\n",
       "      <td>0</td>\n",
       "      <td>2</td>\n",
       "      <td>0</td>\n",
       "      <td>0</td>\n",
       "      <td>1</td>\n",
       "      <td>2</td>\n",
       "      <td>1</td>\n",
       "      <td>2</td>\n",
       "      <td>1</td>\n",
       "      <td>0</td>\n",
       "      <td>1</td>\n",
       "      <td>0</td>\n",
       "      <td>1</td>\n",
       "      <td>1</td>\n",
       "      <td>1</td>\n",
       "    </tr>\n",
       "    <tr>\n",
       "      <th>1</th>\n",
       "      <td>1</td>\n",
       "      <td>0</td>\n",
       "      <td>0</td>\n",
       "      <td>0</td>\n",
       "      <td>0</td>\n",
       "      <td>1</td>\n",
       "      <td>1</td>\n",
       "      <td>1</td>\n",
       "      <td>0</td>\n",
       "      <td>0</td>\n",
       "      <td>0</td>\n",
       "      <td>1</td>\n",
       "      <td>0</td>\n",
       "      <td>1</td>\n",
       "      <td>1</td>\n",
       "      <td>0</td>\n",
       "      <td>0</td>\n",
       "      <td>1</td>\n",
       "      <td>1</td>\n",
       "      <td>1</td>\n",
       "      <td>1</td>\n",
       "    </tr>\n",
       "    <tr>\n",
       "      <th>2</th>\n",
       "      <td>0</td>\n",
       "      <td>0</td>\n",
       "      <td>0</td>\n",
       "      <td>1</td>\n",
       "      <td>0</td>\n",
       "      <td>0</td>\n",
       "      <td>0</td>\n",
       "      <td>2</td>\n",
       "      <td>0</td>\n",
       "      <td>0</td>\n",
       "      <td>0</td>\n",
       "      <td>1</td>\n",
       "      <td>0</td>\n",
       "      <td>1</td>\n",
       "      <td>1</td>\n",
       "      <td>0</td>\n",
       "      <td>0</td>\n",
       "      <td>0</td>\n",
       "      <td>0</td>\n",
       "      <td>0</td>\n",
       "      <td>1</td>\n",
       "    </tr>\n",
       "    <tr>\n",
       "      <th>3</th>\n",
       "      <td>0</td>\n",
       "      <td>0</td>\n",
       "      <td>0</td>\n",
       "      <td>1</td>\n",
       "      <td>2</td>\n",
       "      <td>0</td>\n",
       "      <td>1</td>\n",
       "      <td>0</td>\n",
       "      <td>0</td>\n",
       "      <td>0</td>\n",
       "      <td>1</td>\n",
       "      <td>1</td>\n",
       "      <td>1</td>\n",
       "      <td>1</td>\n",
       "      <td>1</td>\n",
       "      <td>1</td>\n",
       "      <td>1</td>\n",
       "      <td>1</td>\n",
       "      <td>1</td>\n",
       "      <td>1</td>\n",
       "      <td>1</td>\n",
       "    </tr>\n",
       "    <tr>\n",
       "      <th>4</th>\n",
       "      <td>0</td>\n",
       "      <td>1</td>\n",
       "      <td>0</td>\n",
       "      <td>1</td>\n",
       "      <td>0</td>\n",
       "      <td>0</td>\n",
       "      <td>0</td>\n",
       "      <td>0</td>\n",
       "      <td>0</td>\n",
       "      <td>0</td>\n",
       "      <td>0</td>\n",
       "      <td>0</td>\n",
       "      <td>1</td>\n",
       "      <td>1</td>\n",
       "      <td>1</td>\n",
       "      <td>0</td>\n",
       "      <td>1</td>\n",
       "      <td>0</td>\n",
       "      <td>0</td>\n",
       "      <td>0</td>\n",
       "      <td>1</td>\n",
       "    </tr>\n",
       "  </tbody>\n",
       "</table>\n",
       "</div>"
      ],
      "text/plain": [
       "   N0  N1  N2  N3  N4  N5  N6  N7  N8  N9  N10  N11  N12  N13  N14  N15  N16  \\\n",
       "0   0   0   0   0   0   0   0   2   0   0    1    2    1    2    1    0    1   \n",
       "1   1   0   0   0   0   1   1   1   0   0    0    1    0    1    1    0    0   \n",
       "2   0   0   0   1   0   0   0   2   0   0    0    1    0    1    1    0    0   \n",
       "3   0   0   0   1   2   0   1   0   0   0    1    1    1    1    1    1    1   \n",
       "4   0   1   0   1   0   0   0   0   0   0    0    0    1    1    1    0    1   \n",
       "\n",
       "   N17  M0P0  M0P1  Class  \n",
       "0    0     1     1      1  \n",
       "1    1     1     1      1  \n",
       "2    0     0     0      1  \n",
       "3    1     1     1      1  \n",
       "4    0     0     0      1  "
      ]
     },
     "execution_count": 7,
     "metadata": {},
     "output_type": "execute_result"
    }
   ],
   "source": [
    "data2.head()"
   ]
  },
  {
   "cell_type": "code",
   "execution_count": 8,
   "metadata": {
    "collapsed": false
   },
   "outputs": [
    {
     "name": "stdout",
     "output_type": "stream",
     "text": [
      "In dataset 1\n",
      "Number of rows: 1600\n",
      "Number of columns: 21\n",
      "In dataset 2\n",
      "Number of rows: 1600\n",
      "Number of columns: 21\n"
     ]
    }
   ],
   "source": [
    "print ('In dataset 1')\n",
    "print (\"Number of rows: \" + str(data1.shape[0])) # row count\n",
    "print (\"Number of columns: \" + str(data1.shape[1])) # column count\n",
    "print ('In dataset 2')\n",
    "print (\"Number of rows: \" + str(data2.shape[0])) # row count\n",
    "print (\"Number of columns: \" + str(data2.shape[1])) # column count"
   ]
  },
  {
   "cell_type": "code",
   "execution_count": 9,
   "metadata": {
    "collapsed": false
   },
   "outputs": [
    {
     "data": {
      "text/html": [
       "<div>\n",
       "<style scoped>\n",
       "    .dataframe tbody tr th:only-of-type {\n",
       "        vertical-align: middle;\n",
       "    }\n",
       "\n",
       "    .dataframe tbody tr th {\n",
       "        vertical-align: top;\n",
       "    }\n",
       "\n",
       "    .dataframe thead th {\n",
       "        text-align: right;\n",
       "    }\n",
       "</style>\n",
       "<table border=\"1\" class=\"dataframe\">\n",
       "  <thead>\n",
       "    <tr style=\"text-align: right;\">\n",
       "      <th></th>\n",
       "      <th>N0</th>\n",
       "      <th>N1</th>\n",
       "      <th>N2</th>\n",
       "      <th>N3</th>\n",
       "      <th>N4</th>\n",
       "      <th>N5</th>\n",
       "      <th>N6</th>\n",
       "      <th>N7</th>\n",
       "      <th>N8</th>\n",
       "      <th>N9</th>\n",
       "      <th>N10</th>\n",
       "      <th>N11</th>\n",
       "      <th>N12</th>\n",
       "      <th>N13</th>\n",
       "      <th>N14</th>\n",
       "      <th>N15</th>\n",
       "      <th>M0P0</th>\n",
       "      <th>M1P0</th>\n",
       "      <th>M2P0</th>\n",
       "      <th>M3P0</th>\n",
       "      <th>Class</th>\n",
       "    </tr>\n",
       "  </thead>\n",
       "  <tbody>\n",
       "    <tr>\n",
       "      <th>count</th>\n",
       "      <td>1600.000000</td>\n",
       "      <td>1600.000000</td>\n",
       "      <td>1600.000000</td>\n",
       "      <td>1600.000000</td>\n",
       "      <td>1600.000000</td>\n",
       "      <td>1600.000000</td>\n",
       "      <td>1600.000000</td>\n",
       "      <td>1600.000000</td>\n",
       "      <td>1600.000000</td>\n",
       "      <td>1600.000000</td>\n",
       "      <td>1600.000000</td>\n",
       "      <td>1600.000000</td>\n",
       "      <td>1600.000000</td>\n",
       "      <td>1600.00000</td>\n",
       "      <td>1600.000000</td>\n",
       "      <td>1600.000000</td>\n",
       "      <td>1600.000000</td>\n",
       "      <td>1600.00000</td>\n",
       "      <td>1600.000000</td>\n",
       "      <td>1600.000000</td>\n",
       "      <td>1600.000000</td>\n",
       "    </tr>\n",
       "    <tr>\n",
       "      <th>mean</th>\n",
       "      <td>0.081250</td>\n",
       "      <td>0.719375</td>\n",
       "      <td>0.379375</td>\n",
       "      <td>0.806250</td>\n",
       "      <td>0.072500</td>\n",
       "      <td>0.837500</td>\n",
       "      <td>0.488125</td>\n",
       "      <td>0.653125</td>\n",
       "      <td>0.354375</td>\n",
       "      <td>1.007500</td>\n",
       "      <td>0.515000</td>\n",
       "      <td>0.080625</td>\n",
       "      <td>0.258750</td>\n",
       "      <td>0.83875</td>\n",
       "      <td>0.900000</td>\n",
       "      <td>0.403750</td>\n",
       "      <td>0.530000</td>\n",
       "      <td>0.53000</td>\n",
       "      <td>0.518750</td>\n",
       "      <td>0.516250</td>\n",
       "      <td>0.500000</td>\n",
       "    </tr>\n",
       "    <tr>\n",
       "      <th>std</th>\n",
       "      <td>0.275583</td>\n",
       "      <td>0.675211</td>\n",
       "      <td>0.560710</td>\n",
       "      <td>0.691202</td>\n",
       "      <td>0.264173</td>\n",
       "      <td>0.703671</td>\n",
       "      <td>0.611427</td>\n",
       "      <td>0.668455</td>\n",
       "      <td>0.541042</td>\n",
       "      <td>0.715202</td>\n",
       "      <td>0.630495</td>\n",
       "      <td>0.285790</td>\n",
       "      <td>0.477693</td>\n",
       "      <td>0.71191</td>\n",
       "      <td>0.687601</td>\n",
       "      <td>0.569815</td>\n",
       "      <td>0.579275</td>\n",
       "      <td>0.60152</td>\n",
       "      <td>0.581902</td>\n",
       "      <td>0.572224</td>\n",
       "      <td>0.500156</td>\n",
       "    </tr>\n",
       "    <tr>\n",
       "      <th>min</th>\n",
       "      <td>0.000000</td>\n",
       "      <td>0.000000</td>\n",
       "      <td>0.000000</td>\n",
       "      <td>0.000000</td>\n",
       "      <td>0.000000</td>\n",
       "      <td>0.000000</td>\n",
       "      <td>0.000000</td>\n",
       "      <td>0.000000</td>\n",
       "      <td>0.000000</td>\n",
       "      <td>0.000000</td>\n",
       "      <td>0.000000</td>\n",
       "      <td>0.000000</td>\n",
       "      <td>0.000000</td>\n",
       "      <td>0.00000</td>\n",
       "      <td>0.000000</td>\n",
       "      <td>0.000000</td>\n",
       "      <td>0.000000</td>\n",
       "      <td>0.00000</td>\n",
       "      <td>0.000000</td>\n",
       "      <td>0.000000</td>\n",
       "      <td>0.000000</td>\n",
       "    </tr>\n",
       "    <tr>\n",
       "      <th>25%</th>\n",
       "      <td>0.000000</td>\n",
       "      <td>0.000000</td>\n",
       "      <td>0.000000</td>\n",
       "      <td>0.000000</td>\n",
       "      <td>0.000000</td>\n",
       "      <td>0.000000</td>\n",
       "      <td>0.000000</td>\n",
       "      <td>0.000000</td>\n",
       "      <td>0.000000</td>\n",
       "      <td>0.000000</td>\n",
       "      <td>0.000000</td>\n",
       "      <td>0.000000</td>\n",
       "      <td>0.000000</td>\n",
       "      <td>0.00000</td>\n",
       "      <td>0.000000</td>\n",
       "      <td>0.000000</td>\n",
       "      <td>0.000000</td>\n",
       "      <td>0.00000</td>\n",
       "      <td>0.000000</td>\n",
       "      <td>0.000000</td>\n",
       "      <td>0.000000</td>\n",
       "    </tr>\n",
       "    <tr>\n",
       "      <th>50%</th>\n",
       "      <td>0.000000</td>\n",
       "      <td>1.000000</td>\n",
       "      <td>0.000000</td>\n",
       "      <td>1.000000</td>\n",
       "      <td>0.000000</td>\n",
       "      <td>1.000000</td>\n",
       "      <td>0.000000</td>\n",
       "      <td>1.000000</td>\n",
       "      <td>0.000000</td>\n",
       "      <td>1.000000</td>\n",
       "      <td>0.000000</td>\n",
       "      <td>0.000000</td>\n",
       "      <td>0.000000</td>\n",
       "      <td>1.00000</td>\n",
       "      <td>1.000000</td>\n",
       "      <td>0.000000</td>\n",
       "      <td>0.000000</td>\n",
       "      <td>0.00000</td>\n",
       "      <td>0.000000</td>\n",
       "      <td>0.000000</td>\n",
       "      <td>0.500000</td>\n",
       "    </tr>\n",
       "    <tr>\n",
       "      <th>75%</th>\n",
       "      <td>0.000000</td>\n",
       "      <td>1.000000</td>\n",
       "      <td>1.000000</td>\n",
       "      <td>1.000000</td>\n",
       "      <td>0.000000</td>\n",
       "      <td>1.000000</td>\n",
       "      <td>1.000000</td>\n",
       "      <td>1.000000</td>\n",
       "      <td>1.000000</td>\n",
       "      <td>2.000000</td>\n",
       "      <td>1.000000</td>\n",
       "      <td>0.000000</td>\n",
       "      <td>0.000000</td>\n",
       "      <td>1.00000</td>\n",
       "      <td>1.000000</td>\n",
       "      <td>1.000000</td>\n",
       "      <td>1.000000</td>\n",
       "      <td>1.00000</td>\n",
       "      <td>1.000000</td>\n",
       "      <td>1.000000</td>\n",
       "      <td>1.000000</td>\n",
       "    </tr>\n",
       "    <tr>\n",
       "      <th>max</th>\n",
       "      <td>2.000000</td>\n",
       "      <td>2.000000</td>\n",
       "      <td>2.000000</td>\n",
       "      <td>2.000000</td>\n",
       "      <td>2.000000</td>\n",
       "      <td>2.000000</td>\n",
       "      <td>2.000000</td>\n",
       "      <td>2.000000</td>\n",
       "      <td>2.000000</td>\n",
       "      <td>2.000000</td>\n",
       "      <td>2.000000</td>\n",
       "      <td>2.000000</td>\n",
       "      <td>2.000000</td>\n",
       "      <td>2.00000</td>\n",
       "      <td>2.000000</td>\n",
       "      <td>2.000000</td>\n",
       "      <td>2.000000</td>\n",
       "      <td>2.00000</td>\n",
       "      <td>2.000000</td>\n",
       "      <td>2.000000</td>\n",
       "      <td>1.000000</td>\n",
       "    </tr>\n",
       "  </tbody>\n",
       "</table>\n",
       "</div>"
      ],
      "text/plain": [
       "                N0           N1           N2           N3           N4  \\\n",
       "count  1600.000000  1600.000000  1600.000000  1600.000000  1600.000000   \n",
       "mean      0.081250     0.719375     0.379375     0.806250     0.072500   \n",
       "std       0.275583     0.675211     0.560710     0.691202     0.264173   \n",
       "min       0.000000     0.000000     0.000000     0.000000     0.000000   \n",
       "25%       0.000000     0.000000     0.000000     0.000000     0.000000   \n",
       "50%       0.000000     1.000000     0.000000     1.000000     0.000000   \n",
       "75%       0.000000     1.000000     1.000000     1.000000     0.000000   \n",
       "max       2.000000     2.000000     2.000000     2.000000     2.000000   \n",
       "\n",
       "                N5           N6           N7           N8           N9  \\\n",
       "count  1600.000000  1600.000000  1600.000000  1600.000000  1600.000000   \n",
       "mean      0.837500     0.488125     0.653125     0.354375     1.007500   \n",
       "std       0.703671     0.611427     0.668455     0.541042     0.715202   \n",
       "min       0.000000     0.000000     0.000000     0.000000     0.000000   \n",
       "25%       0.000000     0.000000     0.000000     0.000000     0.000000   \n",
       "50%       1.000000     0.000000     1.000000     0.000000     1.000000   \n",
       "75%       1.000000     1.000000     1.000000     1.000000     2.000000   \n",
       "max       2.000000     2.000000     2.000000     2.000000     2.000000   \n",
       "\n",
       "               N10          N11          N12         N13          N14  \\\n",
       "count  1600.000000  1600.000000  1600.000000  1600.00000  1600.000000   \n",
       "mean      0.515000     0.080625     0.258750     0.83875     0.900000   \n",
       "std       0.630495     0.285790     0.477693     0.71191     0.687601   \n",
       "min       0.000000     0.000000     0.000000     0.00000     0.000000   \n",
       "25%       0.000000     0.000000     0.000000     0.00000     0.000000   \n",
       "50%       0.000000     0.000000     0.000000     1.00000     1.000000   \n",
       "75%       1.000000     0.000000     0.000000     1.00000     1.000000   \n",
       "max       2.000000     2.000000     2.000000     2.00000     2.000000   \n",
       "\n",
       "               N15         M0P0        M1P0         M2P0         M3P0  \\\n",
       "count  1600.000000  1600.000000  1600.00000  1600.000000  1600.000000   \n",
       "mean      0.403750     0.530000     0.53000     0.518750     0.516250   \n",
       "std       0.569815     0.579275     0.60152     0.581902     0.572224   \n",
       "min       0.000000     0.000000     0.00000     0.000000     0.000000   \n",
       "25%       0.000000     0.000000     0.00000     0.000000     0.000000   \n",
       "50%       0.000000     0.000000     0.00000     0.000000     0.000000   \n",
       "75%       1.000000     1.000000     1.00000     1.000000     1.000000   \n",
       "max       2.000000     2.000000     2.00000     2.000000     2.000000   \n",
       "\n",
       "             Class  \n",
       "count  1600.000000  \n",
       "mean      0.500000  \n",
       "std       0.500156  \n",
       "min       0.000000  \n",
       "25%       0.000000  \n",
       "50%       0.500000  \n",
       "75%       1.000000  \n",
       "max       1.000000  "
      ]
     },
     "execution_count": 9,
     "metadata": {},
     "output_type": "execute_result"
    }
   ],
   "source": [
    "data1.describe() "
   ]
  },
  {
   "cell_type": "code",
   "execution_count": 10,
   "metadata": {
    "collapsed": false
   },
   "outputs": [
    {
     "data": {
      "text/html": [
       "<div>\n",
       "<style scoped>\n",
       "    .dataframe tbody tr th:only-of-type {\n",
       "        vertical-align: middle;\n",
       "    }\n",
       "\n",
       "    .dataframe tbody tr th {\n",
       "        vertical-align: top;\n",
       "    }\n",
       "\n",
       "    .dataframe thead th {\n",
       "        text-align: right;\n",
       "    }\n",
       "</style>\n",
       "<table border=\"1\" class=\"dataframe\">\n",
       "  <thead>\n",
       "    <tr style=\"text-align: right;\">\n",
       "      <th></th>\n",
       "      <th>N0</th>\n",
       "      <th>N1</th>\n",
       "      <th>N2</th>\n",
       "      <th>N3</th>\n",
       "      <th>N4</th>\n",
       "      <th>N5</th>\n",
       "      <th>N6</th>\n",
       "      <th>N7</th>\n",
       "      <th>N8</th>\n",
       "      <th>N9</th>\n",
       "      <th>N10</th>\n",
       "      <th>N11</th>\n",
       "      <th>N12</th>\n",
       "      <th>N13</th>\n",
       "      <th>N14</th>\n",
       "      <th>N15</th>\n",
       "      <th>N16</th>\n",
       "      <th>N17</th>\n",
       "      <th>M0P0</th>\n",
       "      <th>M0P1</th>\n",
       "      <th>Class</th>\n",
       "    </tr>\n",
       "  </thead>\n",
       "  <tbody>\n",
       "    <tr>\n",
       "      <th>count</th>\n",
       "      <td>1600.000000</td>\n",
       "      <td>1600.00000</td>\n",
       "      <td>1600.00000</td>\n",
       "      <td>1600.000000</td>\n",
       "      <td>1600.000000</td>\n",
       "      <td>1600.000000</td>\n",
       "      <td>1600.000000</td>\n",
       "      <td>1600.000000</td>\n",
       "      <td>1600.000000</td>\n",
       "      <td>1600.000000</td>\n",
       "      <td>1600.000000</td>\n",
       "      <td>1600.000000</td>\n",
       "      <td>1600.000000</td>\n",
       "      <td>1600.00000</td>\n",
       "      <td>1600.000000</td>\n",
       "      <td>1600.000000</td>\n",
       "      <td>1600.000000</td>\n",
       "      <td>1600.00000</td>\n",
       "      <td>1600.000000</td>\n",
       "      <td>1600.000000</td>\n",
       "      <td>1600.000000</td>\n",
       "    </tr>\n",
       "    <tr>\n",
       "      <th>mean</th>\n",
       "      <td>0.222500</td>\n",
       "      <td>0.41250</td>\n",
       "      <td>0.21750</td>\n",
       "      <td>0.890625</td>\n",
       "      <td>0.888125</td>\n",
       "      <td>0.142500</td>\n",
       "      <td>0.335625</td>\n",
       "      <td>1.024375</td>\n",
       "      <td>0.114375</td>\n",
       "      <td>0.595000</td>\n",
       "      <td>0.688750</td>\n",
       "      <td>0.875000</td>\n",
       "      <td>0.798750</td>\n",
       "      <td>0.85375</td>\n",
       "      <td>0.791875</td>\n",
       "      <td>0.281250</td>\n",
       "      <td>0.682500</td>\n",
       "      <td>0.33000</td>\n",
       "      <td>0.396875</td>\n",
       "      <td>0.426250</td>\n",
       "      <td>0.500000</td>\n",
       "    </tr>\n",
       "    <tr>\n",
       "      <th>std</th>\n",
       "      <td>0.439448</td>\n",
       "      <td>0.55343</td>\n",
       "      <td>0.43768</td>\n",
       "      <td>0.687537</td>\n",
       "      <td>0.706874</td>\n",
       "      <td>0.358503</td>\n",
       "      <td>0.523834</td>\n",
       "      <td>0.675697</td>\n",
       "      <td>0.328041</td>\n",
       "      <td>0.652872</td>\n",
       "      <td>0.666822</td>\n",
       "      <td>0.702448</td>\n",
       "      <td>0.701645</td>\n",
       "      <td>0.68202</td>\n",
       "      <td>0.678304</td>\n",
       "      <td>0.481968</td>\n",
       "      <td>0.680612</td>\n",
       "      <td>0.51601</td>\n",
       "      <td>0.561972</td>\n",
       "      <td>0.576427</td>\n",
       "      <td>0.500156</td>\n",
       "    </tr>\n",
       "    <tr>\n",
       "      <th>min</th>\n",
       "      <td>0.000000</td>\n",
       "      <td>0.00000</td>\n",
       "      <td>0.00000</td>\n",
       "      <td>0.000000</td>\n",
       "      <td>0.000000</td>\n",
       "      <td>0.000000</td>\n",
       "      <td>0.000000</td>\n",
       "      <td>0.000000</td>\n",
       "      <td>0.000000</td>\n",
       "      <td>0.000000</td>\n",
       "      <td>0.000000</td>\n",
       "      <td>0.000000</td>\n",
       "      <td>0.000000</td>\n",
       "      <td>0.00000</td>\n",
       "      <td>0.000000</td>\n",
       "      <td>0.000000</td>\n",
       "      <td>0.000000</td>\n",
       "      <td>0.00000</td>\n",
       "      <td>0.000000</td>\n",
       "      <td>0.000000</td>\n",
       "      <td>0.000000</td>\n",
       "    </tr>\n",
       "    <tr>\n",
       "      <th>25%</th>\n",
       "      <td>0.000000</td>\n",
       "      <td>0.00000</td>\n",
       "      <td>0.00000</td>\n",
       "      <td>0.000000</td>\n",
       "      <td>0.000000</td>\n",
       "      <td>0.000000</td>\n",
       "      <td>0.000000</td>\n",
       "      <td>1.000000</td>\n",
       "      <td>0.000000</td>\n",
       "      <td>0.000000</td>\n",
       "      <td>0.000000</td>\n",
       "      <td>0.000000</td>\n",
       "      <td>0.000000</td>\n",
       "      <td>0.00000</td>\n",
       "      <td>0.000000</td>\n",
       "      <td>0.000000</td>\n",
       "      <td>0.000000</td>\n",
       "      <td>0.00000</td>\n",
       "      <td>0.000000</td>\n",
       "      <td>0.000000</td>\n",
       "      <td>0.000000</td>\n",
       "    </tr>\n",
       "    <tr>\n",
       "      <th>50%</th>\n",
       "      <td>0.000000</td>\n",
       "      <td>0.00000</td>\n",
       "      <td>0.00000</td>\n",
       "      <td>1.000000</td>\n",
       "      <td>1.000000</td>\n",
       "      <td>0.000000</td>\n",
       "      <td>0.000000</td>\n",
       "      <td>1.000000</td>\n",
       "      <td>0.000000</td>\n",
       "      <td>1.000000</td>\n",
       "      <td>1.000000</td>\n",
       "      <td>1.000000</td>\n",
       "      <td>1.000000</td>\n",
       "      <td>1.00000</td>\n",
       "      <td>1.000000</td>\n",
       "      <td>0.000000</td>\n",
       "      <td>1.000000</td>\n",
       "      <td>0.00000</td>\n",
       "      <td>0.000000</td>\n",
       "      <td>0.000000</td>\n",
       "      <td>0.500000</td>\n",
       "    </tr>\n",
       "    <tr>\n",
       "      <th>75%</th>\n",
       "      <td>0.000000</td>\n",
       "      <td>1.00000</td>\n",
       "      <td>0.00000</td>\n",
       "      <td>1.000000</td>\n",
       "      <td>1.000000</td>\n",
       "      <td>0.000000</td>\n",
       "      <td>1.000000</td>\n",
       "      <td>1.000000</td>\n",
       "      <td>0.000000</td>\n",
       "      <td>1.000000</td>\n",
       "      <td>1.000000</td>\n",
       "      <td>1.000000</td>\n",
       "      <td>1.000000</td>\n",
       "      <td>1.00000</td>\n",
       "      <td>1.000000</td>\n",
       "      <td>1.000000</td>\n",
       "      <td>1.000000</td>\n",
       "      <td>1.00000</td>\n",
       "      <td>1.000000</td>\n",
       "      <td>1.000000</td>\n",
       "      <td>1.000000</td>\n",
       "    </tr>\n",
       "    <tr>\n",
       "      <th>max</th>\n",
       "      <td>2.000000</td>\n",
       "      <td>2.00000</td>\n",
       "      <td>2.00000</td>\n",
       "      <td>2.000000</td>\n",
       "      <td>2.000000</td>\n",
       "      <td>2.000000</td>\n",
       "      <td>2.000000</td>\n",
       "      <td>2.000000</td>\n",
       "      <td>2.000000</td>\n",
       "      <td>2.000000</td>\n",
       "      <td>2.000000</td>\n",
       "      <td>2.000000</td>\n",
       "      <td>2.000000</td>\n",
       "      <td>2.00000</td>\n",
       "      <td>2.000000</td>\n",
       "      <td>2.000000</td>\n",
       "      <td>2.000000</td>\n",
       "      <td>2.00000</td>\n",
       "      <td>2.000000</td>\n",
       "      <td>2.000000</td>\n",
       "      <td>1.000000</td>\n",
       "    </tr>\n",
       "  </tbody>\n",
       "</table>\n",
       "</div>"
      ],
      "text/plain": [
       "                N0          N1          N2           N3           N4  \\\n",
       "count  1600.000000  1600.00000  1600.00000  1600.000000  1600.000000   \n",
       "mean      0.222500     0.41250     0.21750     0.890625     0.888125   \n",
       "std       0.439448     0.55343     0.43768     0.687537     0.706874   \n",
       "min       0.000000     0.00000     0.00000     0.000000     0.000000   \n",
       "25%       0.000000     0.00000     0.00000     0.000000     0.000000   \n",
       "50%       0.000000     0.00000     0.00000     1.000000     1.000000   \n",
       "75%       0.000000     1.00000     0.00000     1.000000     1.000000   \n",
       "max       2.000000     2.00000     2.00000     2.000000     2.000000   \n",
       "\n",
       "                N5           N6           N7           N8           N9  \\\n",
       "count  1600.000000  1600.000000  1600.000000  1600.000000  1600.000000   \n",
       "mean      0.142500     0.335625     1.024375     0.114375     0.595000   \n",
       "std       0.358503     0.523834     0.675697     0.328041     0.652872   \n",
       "min       0.000000     0.000000     0.000000     0.000000     0.000000   \n",
       "25%       0.000000     0.000000     1.000000     0.000000     0.000000   \n",
       "50%       0.000000     0.000000     1.000000     0.000000     1.000000   \n",
       "75%       0.000000     1.000000     1.000000     0.000000     1.000000   \n",
       "max       2.000000     2.000000     2.000000     2.000000     2.000000   \n",
       "\n",
       "               N10          N11          N12         N13          N14  \\\n",
       "count  1600.000000  1600.000000  1600.000000  1600.00000  1600.000000   \n",
       "mean      0.688750     0.875000     0.798750     0.85375     0.791875   \n",
       "std       0.666822     0.702448     0.701645     0.68202     0.678304   \n",
       "min       0.000000     0.000000     0.000000     0.00000     0.000000   \n",
       "25%       0.000000     0.000000     0.000000     0.00000     0.000000   \n",
       "50%       1.000000     1.000000     1.000000     1.00000     1.000000   \n",
       "75%       1.000000     1.000000     1.000000     1.00000     1.000000   \n",
       "max       2.000000     2.000000     2.000000     2.00000     2.000000   \n",
       "\n",
       "               N15          N16         N17         M0P0         M0P1  \\\n",
       "count  1600.000000  1600.000000  1600.00000  1600.000000  1600.000000   \n",
       "mean      0.281250     0.682500     0.33000     0.396875     0.426250   \n",
       "std       0.481968     0.680612     0.51601     0.561972     0.576427   \n",
       "min       0.000000     0.000000     0.00000     0.000000     0.000000   \n",
       "25%       0.000000     0.000000     0.00000     0.000000     0.000000   \n",
       "50%       0.000000     1.000000     0.00000     0.000000     0.000000   \n",
       "75%       1.000000     1.000000     1.00000     1.000000     1.000000   \n",
       "max       2.000000     2.000000     2.00000     2.000000     2.000000   \n",
       "\n",
       "             Class  \n",
       "count  1600.000000  \n",
       "mean      0.500000  \n",
       "std       0.500156  \n",
       "min       0.000000  \n",
       "25%       0.000000  \n",
       "50%       0.500000  \n",
       "75%       1.000000  \n",
       "max       1.000000  "
      ]
     },
     "execution_count": 10,
     "metadata": {},
     "output_type": "execute_result"
    }
   ],
   "source": [
    "data2.describe() "
   ]
  },
  {
   "cell_type": "code",
   "execution_count": 11,
   "metadata": {
    "collapsed": false
   },
   "outputs": [
    {
     "data": {
      "text/plain": [
       "False"
      ]
     },
     "execution_count": 11,
     "metadata": {},
     "output_type": "execute_result"
    }
   ],
   "source": [
    "data1.isnull().values.any() # check missing data"
   ]
  },
  {
   "cell_type": "code",
   "execution_count": 12,
   "metadata": {
    "collapsed": false
   },
   "outputs": [
    {
     "data": {
      "text/plain": [
       "False"
      ]
     },
     "execution_count": 12,
     "metadata": {},
     "output_type": "execute_result"
    }
   ],
   "source": [
    "data2.isnull().values.any() # check missing data"
   ]
  },
  {
   "cell_type": "markdown",
   "metadata": {},
   "source": [
    "### Mutual information (MI)\n",
    "The mutual information (MI) is a measure of the amount of information that one random variable has about another variable. <br>\n",
    "MI between two random variables is a non-negative value, which measures the dependency between the variables. It is equal to zero if and only if two random variables are independent, and higher values mean higher dependency. <br>\n",
    "Mutual Information \"is not concerned\" whether the association is linear or not."
   ]
  },
  {
   "cell_type": "code",
   "execution_count": 13,
   "metadata": {
    "collapsed": true
   },
   "outputs": [],
   "source": [
    "from sklearn.feature_selection import mutual_info_classif # Mutual information for a discrete target.\n",
    "from sklearn.feature_selection import SelectKBest"
   ]
  },
  {
   "cell_type": "code",
   "execution_count": 14,
   "metadata": {
    "collapsed": true
   },
   "outputs": [],
   "source": [
    "X_1 = data1.iloc[:, :-1].values\n",
    "y_1 = data1.iloc[:, -1].values\n",
    "X_2 = data2.iloc[:, :-1].values\n",
    "y_2 = data2.iloc[:, -1].values"
   ]
  },
  {
   "cell_type": "markdown",
   "metadata": {},
   "source": [
    "Dataset 1"
   ]
  },
  {
   "cell_type": "code",
   "execution_count": 15,
   "metadata": {
    "collapsed": true
   },
   "outputs": [],
   "source": [
    "d1_mutual_information = mutual_info_classif(X_1, y_1)"
   ]
  },
  {
   "cell_type": "code",
   "execution_count": 16,
   "metadata": {
    "collapsed": false
   },
   "outputs": [
    {
     "data": {
      "text/plain": [
       "Text(0.5,1.2,'Dataset 1 Importance (mutual_info_classif)')"
      ]
     },
     "execution_count": 16,
     "metadata": {},
     "output_type": "execute_result"
    },
    {
     "data": {
      "image/png": "[encoded data removed]",
      "text/plain": [
       "<Figure size 1440x72 with 2 Axes>"
      ]
     },
     "metadata": {
      "needs_background": "light"
     },
     "output_type": "display_data"
    }
   ],
   "source": [
    "plt.subplots(1, figsize=(20, 1))\n",
    "sns.heatmap(d1_mutual_information[:, np.newaxis].T,linewidths=1, annot=True)\n",
    "plt.yticks([], [])\n",
    "plt.gca().set_xticklabels(data1.columns[:-1], fontsize=12)\n",
    "plt.suptitle('Dataset 1 Importance (mutual_info_classif)', fontsize=18, horizontalalignment = 'center',y = 1.2)"
   ]
  },
  {
   "cell_type": "code",
   "execution_count": 17,
   "metadata": {
    "collapsed": true
   },
   "outputs": [],
   "source": [
    "d1_selecter = SelectKBest(mutual_info_classif, k=5).fit(X_1, y_1)\n",
    "d1_selected_feature = d1_selecter.get_support()"
   ]
  },
  {
   "cell_type": "code",
   "execution_count": 18,
   "metadata": {
    "collapsed": true
   },
   "outputs": [],
   "source": [
    "def show_features(dataset, selected_feature):\n",
    "    name = []\n",
    "    for i in dataset.columns:\n",
    "        name.append(i)\n",
    "    for i in range(0,len(name) - 1):\n",
    "        if selected_feature[i]:\n",
    "            print(name[i]) "
   ]
  },
  {
   "cell_type": "code",
   "execution_count": 19,
   "metadata": {
    "collapsed": false
   },
   "outputs": [
    {
     "name": "stdout",
     "output_type": "stream",
     "text": [
      "N3\n",
      "M0P0\n",
      "M1P0\n",
      "M2P0\n",
      "M3P0\n"
     ]
    }
   ],
   "source": [
    "show_features(data1,d1_selected_feature)"
   ]
  },
  {
   "cell_type": "markdown",
   "metadata": {},
   "source": [
    "Dataset 2"
   ]
  },
  {
   "cell_type": "code",
   "execution_count": 20,
   "metadata": {
    "collapsed": true
   },
   "outputs": [],
   "source": [
    "d2_mutual_information = mutual_info_classif(X_2, y_2)"
   ]
  },
  {
   "cell_type": "code",
   "execution_count": 85,
   "metadata": {
    "collapsed": false,
    "scrolled": true
   },
   "outputs": [
    {
     "data": {
      "text/plain": [
       "Text(0.5,1.2,'Dataset 2 Importance (mutual_info_classif)')"
      ]
     },
     "execution_count": 85,
     "metadata": {},
     "output_type": "execute_result"
    },
    {
     "data": {
      "image/png": "[encoded data removed]",
      "text/plain": [
       "<Figure size 1440x72 with 2 Axes>"
      ]
     },
     "metadata": {
      "needs_background": "light"
     },
     "output_type": "display_data"
    }
   ],
   "source": [
    "plt.subplots(1, figsize=(20, 1))\n",
    "sns.heatmap(d2_mutual_information[:, np.newaxis].T,linewidths=1, annot=True)\n",
    "plt.yticks([], [])\n",
    "plt.gca().set_xticklabels(data2.columns[:-1], fontsize=12)\n",
    "plt.suptitle('Dataset 2 Importance (mutual_info_classif)', fontsize=18, horizontalalignment = 'center',y = 1.2)"
   ]
  },
  {
   "cell_type": "code",
   "execution_count": 86,
   "metadata": {
    "collapsed": true
   },
   "outputs": [],
   "source": [
    "d2_selecter = SelectKBest(mutual_info_classif, k=5).fit(X_2, y_2)\n",
    "d2_selected_feature = d2_selecter.get_support()"
   ]
  },
  {
   "cell_type": "code",
   "execution_count": 87,
   "metadata": {
    "collapsed": false
   },
   "outputs": [
    {
     "name": "stdout",
     "output_type": "stream",
     "text": [
      "N4\n",
      "N5\n",
      "N8\n",
      "N14\n",
      "N17\n"
     ]
    }
   ],
   "source": [
    "show_features(data2,d2_selected_feature)"
   ]
  },
  {
   "cell_type": "markdown",
   "metadata": {},
   "source": [
    "Based on the result, MI seems fail to detect epistasis pattern when applied on this dataset."
   ]
  },
  {
   "cell_type": "markdown",
   "metadata": {},
   "source": [
    "### ANOVA F-value\n",
    "If the features are quantitative, compute the ANOVA F-value between each feature and the target vector.<br>\n",
    "The F-value scores examine if, when we group the numerical feature by the target vector, the means for each group are significantly different.<br>\n",
    "F-Test checks for and only captures linear relationships between features and labels. A highly correlated feature is given higher score and less correlated features are given lower score.\n",
    "Correlation is highly deceptive as it doesn’t capture strong non-linear relationships."
   ]
  },
  {
   "cell_type": "code",
   "execution_count": 24,
   "metadata": {
    "collapsed": true
   },
   "outputs": [],
   "source": [
    "from sklearn.feature_selection import f_classif"
   ]
  },
  {
   "cell_type": "markdown",
   "metadata": {},
   "source": [
    "Dataset 1"
   ]
  },
  {
   "cell_type": "code",
   "execution_count": 25,
   "metadata": {
    "collapsed": true
   },
   "outputs": [],
   "source": [
    "d1_fvalue_selector = SelectKBest(f_classif, k=5).fit(X_1, y_1)\n",
    "d1_selected_feature = d1_fvalue_selector.get_support()"
   ]
  },
  {
   "cell_type": "code",
   "execution_count": 26,
   "metadata": {
    "collapsed": false
   },
   "outputs": [
    {
     "name": "stdout",
     "output_type": "stream",
     "text": [
      "N4\n",
      "M0P0\n",
      "M1P0\n",
      "M2P0\n",
      "M3P0\n"
     ]
    }
   ],
   "source": [
    "show_features(data1,d1_selected_feature)"
   ]
  },
  {
   "cell_type": "markdown",
   "metadata": {},
   "source": [
    "Dataset 2"
   ]
  },
  {
   "cell_type": "code",
   "execution_count": 27,
   "metadata": {
    "collapsed": true
   },
   "outputs": [],
   "source": [
    "d2_fvalue_selector = SelectKBest(f_classif, k=5).fit(X_2, y_2)\n",
    "d2_selected_feature = d2_fvalue_selector.get_support()"
   ]
  },
  {
   "cell_type": "code",
   "execution_count": 28,
   "metadata": {
    "collapsed": false
   },
   "outputs": [
    {
     "name": "stdout",
     "output_type": "stream",
     "text": [
      "N2\n",
      "N5\n",
      "N13\n",
      "N14\n",
      "M0P0\n"
     ]
    }
   ],
   "source": [
    "show_features(data2,d2_selected_feature)"
   ]
  },
  {
   "cell_type": "markdown",
   "metadata": {},
   "source": [
    "# Chi-squared\n",
    "The chi-square test is a statistical test of independence to determine the dependency of two variables. <br>\n",
    "It can also be used for continuous variable, but the continuous variable needs to be categorized first. <br>\n",
    "Computes chi-squared stats between each non-negative feature and class.<br>\n",
    "This score can be used to select the n_features features with the highest values for the test chi-squared statistic from X, which must contain only non-negative features such as booleans or frequencies (e.g., term counts in document classification), relative to the classes.<br>\n",
    "Using this function “weeds out” the features that are the most likely to be independent of class and therefore irrelevant for classification.\n",
    " "
   ]
  },
  {
   "cell_type": "code",
   "execution_count": 29,
   "metadata": {
    "collapsed": true
   },
   "outputs": [],
   "source": [
    "from sklearn.feature_selection import chi2"
   ]
  },
  {
   "cell_type": "markdown",
   "metadata": {},
   "source": [
    "Dataset 1"
   ]
  },
  {
   "cell_type": "code",
   "execution_count": 43,
   "metadata": {
    "collapsed": true
   },
   "outputs": [],
   "source": [
    "d1_chi2_selector = SelectKBest(f_classif, k=5).fit(X_1, y_1)\n",
    "d1_selected_feature = d1_chi2_selector.get_support()"
   ]
  },
  {
   "cell_type": "code",
   "execution_count": 31,
   "metadata": {
    "collapsed": false
   },
   "outputs": [
    {
     "name": "stdout",
     "output_type": "stream",
     "text": [
      "N4\n",
      "M0P0\n",
      "M1P0\n",
      "M2P0\n",
      "M3P0\n"
     ]
    }
   ],
   "source": [
    "show_features(data1,d1_selected_feature)"
   ]
  },
  {
   "cell_type": "markdown",
   "metadata": {},
   "source": [
    "Dataset 2"
   ]
  },
  {
   "cell_type": "code",
   "execution_count": 32,
   "metadata": {
    "collapsed": true
   },
   "outputs": [],
   "source": [
    "d2_chi2_selector = SelectKBest(f_classif, k=5).fit(X_2, y_2)\n",
    "d2_selected_feature = d2_chi2_selector.get_support()"
   ]
  },
  {
   "cell_type": "code",
   "execution_count": 33,
   "metadata": {
    "collapsed": false
   },
   "outputs": [
    {
     "name": "stdout",
     "output_type": "stream",
     "text": [
      "N2\n",
      "N5\n",
      "N13\n",
      "N14\n",
      "M0P0\n"
     ]
    }
   ],
   "source": [
    "show_features(data2,d2_selected_feature)"
   ]
  },
  {
   "cell_type": "markdown",
   "metadata": {},
   "source": [
    "# Scikit-rebate\n",
    "scikit-rebate is a scikit-learn-compatible Python implementation of ReBATE, a suite of Relief-based feature selection algorithms for Machine Learning. \n",
    "It is especially good at identifying feature interactions that are normally overlooked by standard feature selection methods.\n",
    "Relief-based algorithms are commonly applied to genetic analyses, where epistasis (i.e., feature interactions) is common. "
   ]
  },
  {
   "cell_type": "code",
   "execution_count": 34,
   "metadata": {
    "collapsed": true
   },
   "outputs": [],
   "source": [
    "from skrebate import ReliefF"
   ]
  },
  {
   "cell_type": "markdown",
   "metadata": {},
   "source": [
    "Dataset 1"
   ]
  },
  {
   "cell_type": "code",
   "execution_count": 54,
   "metadata": {
    "collapsed": false
   },
   "outputs": [
    {
     "name": "stdout",
     "output_type": "stream",
     "text": [
      "N0 \t 0.0028624999999999983\n",
      "N1 \t 0.0011187499999999987\n",
      "N2 \t 0.0064562499999999984\n",
      "N3 \t 0.006268750000000005\n",
      "N4 \t 0.0006625000000000002\n",
      "N5 \t 0.000787499999999997\n",
      "N6 \t 0.004662500000000002\n",
      "N7 \t 0.004524999999999999\n",
      "N8 \t 0.0037437500000000036\n",
      "N9 \t 0.0018812499999999977\n",
      "N10 \t 0.0009125000000000001\n",
      "N11 \t 0.001956249999999991\n",
      "N12 \t 0.005250000000000005\n",
      "N13 \t 0.001831250000000005\n",
      "N14 \t 0.008325000000000006\n",
      "N15 \t 0.004918750000000006\n",
      "M0P0 \t 0.39539999999999875\n",
      "M1P0 \t 0.3949624999999988\n",
      "M2P0 \t 0.42558124999999947\n",
      "M3P0 \t 0.38843749999999866\n"
     ]
    }
   ],
   "source": [
    "d1_rebate_selector = ReliefF(n_features_to_select = 5).fit(X_1, y_1)\n",
    "for feature_name, feature_score in zip(data1.columns, d1_rebate_selector.feature_importances_):\n",
    "    print(feature_name, '\\t', feature_score)"
   ]
  },
  {
   "cell_type": "code",
   "execution_count": 57,
   "metadata": {
    "collapsed": false
   },
   "outputs": [
    {
     "data": {
      "text/plain": [
       "array([18, 16, 17, 19, 14,  2,  3, 12, 15,  6,  7,  8,  0, 11,  9, 13,  1,\n",
       "       10,  5,  4])"
      ]
     },
     "execution_count": 57,
     "metadata": {},
     "output_type": "execute_result"
    }
   ],
   "source": [
    "#retrieve a list of indices for the top scoring features ranked by increasing score\n",
    "d1_rebate_selector.top_features_"
   ]
  },
  {
   "cell_type": "code",
   "execution_count": 67,
   "metadata": {
    "collapsed": true
   },
   "outputs": [],
   "source": [
    "import collections\n",
    "scoreDict = collections.defaultdict(int)\n",
    "i = 0\n",
    "for n in data1.columns:\n",
    "        \n",
    "    scoreDict[n] = d1_rebate_selector.feature_importances_[i]\n",
    "    i += 1\n",
    "    if i == 20:\n",
    "        break"
   ]
  },
  {
   "cell_type": "code",
   "execution_count": 69,
   "metadata": {
    "collapsed": false
   },
   "outputs": [
    {
     "name": "stdout",
     "output_type": "stream",
     "text": [
      "M2P0 \t 0.42558124999999947 \t 1\n",
      "M0P0 \t 0.39539999999999875 \t 2\n",
      "M1P0 \t 0.3949624999999988 \t 3\n",
      "M3P0 \t 0.38843749999999866 \t 4\n",
      "N14 \t 0.008325000000000006 \t 5\n"
     ]
    }
   ],
   "source": [
    "scored_features = len(d1_rebate_selector.top_features_)\n",
    "sorted_names = sorted(scoreDict, key=lambda x: scoreDict[x], reverse=True)\n",
    "n = 1\n",
    "for k in sorted_names:\n",
    "    if n < scored_features +1 :\n",
    "        print(k, '\\t', scoreDict[k],'\\t',n) \n",
    "    else:\n",
    "        print(k, '\\t', scoreDict[k],'\\t','*') \n",
    "    n += 1\n",
    "    if n == 6:\n",
    "        break"
   ]
  },
  {
   "cell_type": "markdown",
   "metadata": {},
   "source": [
    "Dataset2"
   ]
  },
  {
   "cell_type": "code",
   "execution_count": 78,
   "metadata": {
    "collapsed": false
   },
   "outputs": [
    {
     "name": "stdout",
     "output_type": "stream",
     "text": [
      "N0 \t -0.0047250000000000035\n",
      "N1 \t -0.006956249999999993\n",
      "N2 \t -0.003125\n",
      "N3 \t -0.008787500000000002\n",
      "N4 \t -0.010581249999999992\n",
      "N5 \t -0.0034874999999999997\n",
      "N6 \t -0.006993750000000007\n",
      "N7 \t -0.011374999999999993\n",
      "N8 \t -0.0019749999999999993\n",
      "N9 \t -0.005262500000000007\n",
      "N10 \t -0.009487500000000005\n",
      "N11 \t -0.00693125\n",
      "N12 \t -0.007637499999999993\n",
      "N13 \t -0.00986874999999999\n",
      "N14 \t -0.01215625000000001\n",
      "N15 \t -0.0038999999999999964\n",
      "N16 \t -0.0053750000000000065\n",
      "N17 \t -0.009093750000000017\n",
      "M0P0 \t 0.1381249999999998\n",
      "M0P1 \t 0.13474374999999977\n"
     ]
    }
   ],
   "source": [
    "d2_rebate_selector = ReliefF(n_features_to_select = 5).fit(X_2, y_2)\n",
    "for feature_name, feature_score in zip(data2.columns, d2_rebate_selector.feature_importances_):\n",
    "    print(feature_name, '\\t', feature_score)"
   ]
  },
  {
   "cell_type": "code",
   "execution_count": 79,
   "metadata": {
    "collapsed": false
   },
   "outputs": [
    {
     "data": {
      "text/plain": [
       "array([18, 19,  8,  2,  5, 15,  0,  9, 16, 11,  1,  6, 12,  3, 17, 10, 13,\n",
       "        4,  7, 14])"
      ]
     },
     "execution_count": 79,
     "metadata": {},
     "output_type": "execute_result"
    }
   ],
   "source": [
    "#retrieve a list of indices for the top scoring features ranked by increasing score\n",
    "d2_rebate_selector.top_features_"
   ]
  },
  {
   "cell_type": "code",
   "execution_count": 83,
   "metadata": {
    "collapsed": true
   },
   "outputs": [],
   "source": [
    "import collections\n",
    "scoreDict2 = collections.defaultdict(int)\n",
    "i = 0\n",
    "for n in data2.columns:\n",
    "        \n",
    "    scoreDict2[n] = d2_rebate_selector.feature_importances_[i]\n",
    "    i += 1\n",
    "    if i == 20:\n",
    "        break"
   ]
  },
  {
   "cell_type": "code",
   "execution_count": 84,
   "metadata": {
    "collapsed": false
   },
   "outputs": [
    {
     "name": "stdout",
     "output_type": "stream",
     "text": [
      "M0P0 \t 0.1381249999999998 \t 1\n",
      "M0P1 \t 0.13474374999999977 \t 2\n",
      "N8 \t -0.0019749999999999993 \t 3\n",
      "N2 \t -0.003125 \t 4\n",
      "N5 \t -0.0034874999999999997 \t 5\n"
     ]
    }
   ],
   "source": [
    "scored_features = len(d2_rebate_selector.top_features_)\n",
    "sorted_names = sorted(scoreDict2, key=lambda x: scoreDict2[x], reverse=True)\n",
    "n = 1\n",
    "for k in sorted_names:\n",
    "    if n < scored_features +1 :\n",
    "        print(k, '\\t', scoreDict2[k],'\\t',n) \n",
    "    else:\n",
    "        print(k, '\\t', scoreDict2[k],'\\t','*') \n",
    "    n += 1\n",
    "    if n == 6:\n",
    "        break"
   ]
  },
  {
   "cell_type": "markdown",
   "metadata": {},
   "source": [
    "Reference:<br>\n",
    "https://stats.stackexchange.com/questions/81659/mutual-information-versus-correlation\n",
    "http://scikit-learn.org/stable/modules/generated/sklearn.feature_selection.SelectKBest.html#sklearn.feature_selection.SelectKBest\n",
    "https://www.programcreek.com/python/example/93974/sklearn.feature_selection.SelectKBest\n",
    "https://chrisalbon.com/machine_learning/feature_selection/anova_f-value_for_feature_selection/\n",
    "https://epistasislab.github.io/scikit-rebate/using/#acquiring-feature-importance-scores\n"
   ]
  }
 ],
 "metadata": {
  "kernelspec": {
   "display_name": "Python 3",
   "language": "python",
   "name": "python3"
  },
  "language_info": {
   "codemirror_mode": {
    "name": "ipython",
    "version": 3
   },
   "file_extension": ".py",
   "mimetype": "text/x-python",
   "name": "python",
   "nbconvert_exporter": "python",
   "pygments_lexer": "ipython3",
   "version": "3.6.2"
  }
 },
 "nbformat": 4,
 "nbformat_minor": 2
}
